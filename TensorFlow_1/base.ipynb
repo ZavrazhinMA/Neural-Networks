{
 "cells": [
  {
   "cell_type": "markdown",
   "metadata": {},
   "source": [
    "# Base syntax"
   ]
  },
  {
   "cell_type": "code",
   "execution_count": 1,
   "metadata": {
    "ExecuteTime": {
     "end_time": "2021-07-05T10:17:30.849091Z",
     "start_time": "2021-07-05T10:17:28.063870Z"
    },
    "colab": {
     "base_uri": "https://localhost:8080/"
    },
    "executionInfo": {
     "elapsed": 245,
     "status": "ok",
     "timestamp": 1625156792287,
     "user": {
      "displayName": "Mariia Korliakova",
      "photoUrl": "",
      "userId": "14165537686129864864"
     },
     "user_tz": -180
    },
    "id": "75BVCTdbFzPa",
    "outputId": "0e56eaca-ffbb-4cc7-fab4-c9b8b5d6ce31"
   },
   "outputs": [],
   "source": [
    "import tensorflow as tf\n",
    "import numpy as np"
   ]
  },
  {
   "cell_type": "code",
   "execution_count": 2,
   "metadata": {
    "ExecuteTime": {
     "end_time": "2021-07-05T10:17:30.929084Z",
     "start_time": "2021-07-05T10:17:30.850075Z"
    },
    "colab": {
     "base_uri": "https://localhost:8080/"
    },
    "executionInfo": {
     "elapsed": 245,
     "status": "ok",
     "timestamp": 1625156792287,
     "user": {
      "displayName": "Mariia Korliakova",
      "photoUrl": "",
      "userId": "14165537686129864864"
     },
     "user_tz": -180
    },
    "id": "75BVCTdbFzPa",
    "outputId": "0e56eaca-ffbb-4cc7-fab4-c9b8b5d6ce31"
   },
   "outputs": [
    {
     "name": "stdout",
     "output_type": "stream",
     "text": [
      "2.4.1\n",
      "TensorFlow 2.0 Hello World\r\n"
     ]
    }
   ],
   "source": [
    "print(tf.__version__)\n",
    "msg = tf.constant('TensorFlow 2.0 Hello World')\n",
    "tf.print(msg)"
   ]
  },
  {
   "cell_type": "markdown",
   "metadata": {
    "id": "S4ZN0rdqFzPh"
   },
   "source": [
    "Пример создания тензора - "
   ]
  },
  {
   "cell_type": "code",
   "execution_count": 3,
   "metadata": {
    "ExecuteTime": {
     "end_time": "2021-07-05T10:17:30.945072Z",
     "start_time": "2021-07-05T10:17:30.931076Z"
    },
    "colab": {
     "base_uri": "https://localhost:8080/"
    },
    "executionInfo": {
     "elapsed": 236,
     "status": "ok",
     "timestamp": 1625156792287,
     "user": {
      "displayName": "Mariia Korliakova",
      "photoUrl": "",
      "userId": "14165537686129864864"
     },
     "user_tz": -180
    },
    "id": "VATG0L6IFzPj",
    "outputId": "abd33e27-28bc-44e1-b25f-09a69e9d0252"
   },
   "outputs": [
    {
     "name": "stdout",
     "output_type": "stream",
     "text": [
      "tf.Tensor(\n",
      "[[3 2]\n",
      " [5 2]], shape=(2, 2), dtype=int32)\n"
     ]
    }
   ],
   "source": [
    "A = tf.constant([[3, 2],\n",
    "                 [5, 2]])\n",
    "\n",
    "print(A)"
   ]
  },
  {
   "cell_type": "code",
   "execution_count": 4,
   "metadata": {
    "ExecuteTime": {
     "end_time": "2021-07-05T10:17:30.960084Z",
     "start_time": "2021-07-05T10:17:30.947073Z"
    },
    "colab": {
     "base_uri": "https://localhost:8080/"
    },
    "executionInfo": {
     "elapsed": 205,
     "status": "ok",
     "timestamp": 1625156792288,
     "user": {
      "displayName": "Mariia Korliakova",
      "photoUrl": "",
      "userId": "14165537686129864864"
     },
     "user_tz": -180
    },
    "id": "zO731BJ7cUBG",
    "outputId": "1c39d3b8-516c-40e7-f29f-b505e2b8abd4"
   },
   "outputs": [
    {
     "data": {
      "text/plain": [
       "<tf.Variable 'Variable:0' shape=(2, 1) dtype=float32, numpy=\n",
       "array([[1.],\n",
       "       [2.]], dtype=float32)>"
      ]
     },
     "execution_count": 4,
     "metadata": {},
     "output_type": "execute_result"
    }
   ],
   "source": [
    "w = tf.Variable([[1.], [2.]])\n",
    "w"
   ]
  },
  {
   "cell_type": "markdown",
   "metadata": {
    "id": "PoSPW2QuREEv"
   },
   "source": [
    "Тензор, заполненный только единицами"
   ]
  },
  {
   "cell_type": "code",
   "execution_count": 5,
   "metadata": {
    "ExecuteTime": {
     "end_time": "2021-07-05T10:17:30.976084Z",
     "start_time": "2021-07-05T10:17:30.961073Z"
    },
    "colab": {
     "base_uri": "https://localhost:8080/"
    },
    "executionInfo": {
     "elapsed": 193,
     "status": "ok",
     "timestamp": 1625156792289,
     "user": {
      "displayName": "Mariia Korliakova",
      "photoUrl": "",
      "userId": "14165537686129864864"
     },
     "user_tz": -180
    },
    "id": "g4OGJqgiQvY-",
    "outputId": "8d5a1220-d861-47eb-b0e3-841ebca53145"
   },
   "outputs": [
    {
     "name": "stdout",
     "output_type": "stream",
     "text": [
      "tf.Tensor([[1. 1.]], shape=(1, 2), dtype=float32)\n"
     ]
    }
   ],
   "source": [
    "x = tf.ones(shape=(1, 2))\n",
    "print(x)"
   ]
  },
  {
   "cell_type": "markdown",
   "metadata": {
    "id": "lVQVuCv5RIU5"
   },
   "source": [
    "Тензор, заполненный только нулями:"
   ]
  },
  {
   "cell_type": "code",
   "execution_count": 6,
   "metadata": {
    "ExecuteTime": {
     "end_time": "2021-07-05T10:17:30.991084Z",
     "start_time": "2021-07-05T10:17:30.977072Z"
    },
    "colab": {
     "base_uri": "https://localhost:8080/"
    },
    "executionInfo": {
     "elapsed": 178,
     "status": "ok",
     "timestamp": 1625156792289,
     "user": {
      "displayName": "Mariia Korliakova",
      "photoUrl": "",
      "userId": "14165537686129864864"
     },
     "user_tz": -180
    },
    "id": "C2T4MAHCQ4Fn",
    "outputId": "5c170da2-b311-4120-eff5-b9ab0010ab37"
   },
   "outputs": [
    {
     "name": "stdout",
     "output_type": "stream",
     "text": [
      "tf.Tensor(\n",
      "[[0.]\n",
      " [0.]], shape=(2, 1), dtype=float32)\n"
     ]
    }
   ],
   "source": [
    "x = tf.zeros(shape=(2, 1))\n",
    "print(x)"
   ]
  },
  {
   "cell_type": "markdown",
   "metadata": {
    "id": "wZRIvAwdRNGt"
   },
   "source": [
    "Cлучайные тензоры"
   ]
  },
  {
   "cell_type": "code",
   "execution_count": 7,
   "metadata": {
    "ExecuteTime": {
     "end_time": "2021-07-05T10:17:31.007084Z",
     "start_time": "2021-07-05T10:17:30.993072Z"
    },
    "colab": {
     "base_uri": "https://localhost:8080/"
    },
    "executionInfo": {
     "elapsed": 170,
     "status": "ok",
     "timestamp": 1625156792290,
     "user": {
      "displayName": "Mariia Korliakova",
      "photoUrl": "",
      "userId": "14165537686129864864"
     },
     "user_tz": -180
    },
    "id": "h6ker3veRBrQ",
    "outputId": "495ad8da-fb2c-4a6f-9e65-b099ae83dd44"
   },
   "outputs": [
    {
     "name": "stdout",
     "output_type": "stream",
     "text": [
      "tf.Tensor(\n",
      "[[ 0.28015938]\n",
      " [ 0.58029115]\n",
      " [-0.44300193]], shape=(3, 1), dtype=float32)\n"
     ]
    }
   ],
   "source": [
    "x = tf.random.normal(shape=(3, 1), mean=0., stddev=1.)\n",
    "print(x)"
   ]
  },
  {
   "cell_type": "code",
   "execution_count": 8,
   "metadata": {
    "ExecuteTime": {
     "end_time": "2021-07-05T10:17:31.023077Z",
     "start_time": "2021-07-05T10:17:31.009072Z"
    },
    "colab": {
     "base_uri": "https://localhost:8080/"
    },
    "executionInfo": {
     "elapsed": 161,
     "status": "ok",
     "timestamp": 1625156792291,
     "user": {
      "displayName": "Mariia Korliakova",
      "photoUrl": "",
      "userId": "14165537686129864864"
     },
     "user_tz": -180
    },
    "id": "YLjXW-uFRfTB",
    "outputId": "9db8a8c9-f18e-40f7-9694-6bd9102e23d4"
   },
   "outputs": [
    {
     "name": "stdout",
     "output_type": "stream",
     "text": [
      "<tf.Variable 'Variable:0' shape=(3, 1) dtype=float32, numpy=\n",
      "array([[ 0.406872  ],\n",
      "       [-0.70110154],\n",
      "       [-0.40414506]], dtype=float32)>\n"
     ]
    }
   ],
   "source": [
    "v = tf.Variable(initial_value=tf.random.normal(shape=(3, 1)))\n",
    "print(v)"
   ]
  },
  {
   "cell_type": "markdown",
   "metadata": {
    "id": "ueNZM4bARngO"
   },
   "source": [
    "Состояние переменной можно изменить с помощью метода assign"
   ]
  },
  {
   "cell_type": "code",
   "execution_count": 9,
   "metadata": {
    "ExecuteTime": {
     "end_time": "2021-07-05T10:17:31.039084Z",
     "start_time": "2021-07-05T10:17:31.024076Z"
    },
    "colab": {
     "base_uri": "https://localhost:8080/"
    },
    "executionInfo": {
     "elapsed": 151,
     "status": "ok",
     "timestamp": 1625156792291,
     "user": {
      "displayName": "Mariia Korliakova",
      "photoUrl": "",
      "userId": "14165537686129864864"
     },
     "user_tz": -180
    },
    "id": "s4VMhhuBRlgp",
    "outputId": "3adb745a-4d81-42d7-bb50-336807d3dff7"
   },
   "outputs": [
    {
     "data": {
      "text/plain": [
       "<tf.Variable 'UnreadVariable' shape=(3, 1) dtype=float32, numpy=\n",
       "array([[1.],\n",
       "       [1.],\n",
       "       [1.]], dtype=float32)>"
      ]
     },
     "execution_count": 9,
     "metadata": {},
     "output_type": "execute_result"
    }
   ],
   "source": [
    "v.assign(tf.ones((3, 1)))"
   ]
  },
  {
   "cell_type": "code",
   "execution_count": 10,
   "metadata": {
    "ExecuteTime": {
     "end_time": "2021-07-05T10:17:31.055083Z",
     "start_time": "2021-07-05T10:17:31.040073Z"
    },
    "colab": {
     "base_uri": "https://localhost:8080/"
    },
    "executionInfo": {
     "elapsed": 140,
     "status": "ok",
     "timestamp": 1625156792292,
     "user": {
      "displayName": "Mariia Korliakova",
      "photoUrl": "",
      "userId": "14165537686129864864"
     },
     "user_tz": -180
    },
    "id": "SejHNh3QRwXu",
    "outputId": "8fc5f880-261e-4bc9-d046-f5c8a6a94ceb"
   },
   "outputs": [
    {
     "data": {
      "text/plain": [
       "<tf.Variable 'UnreadVariable' shape=(3, 1) dtype=float32, numpy=\n",
       "array([[3.],\n",
       "       [1.],\n",
       "       [1.]], dtype=float32)>"
      ]
     },
     "execution_count": 10,
     "metadata": {},
     "output_type": "execute_result"
    }
   ],
   "source": [
    "v[0, 0].assign(3.)"
   ]
  },
  {
   "cell_type": "markdown",
   "metadata": {
    "id": "XTfjbLKLFzPx"
   },
   "source": [
    "Пример изменения размерности тензора - "
   ]
  },
  {
   "cell_type": "code",
   "execution_count": 11,
   "metadata": {
    "ExecuteTime": {
     "end_time": "2021-07-05T10:17:31.071072Z",
     "start_time": "2021-07-05T10:17:31.057074Z"
    },
    "colab": {
     "base_uri": "https://localhost:8080/"
    },
    "executionInfo": {
     "elapsed": 131,
     "status": "ok",
     "timestamp": 1625156792293,
     "user": {
      "displayName": "Mariia Korliakova",
      "photoUrl": "",
      "userId": "14165537686129864864"
     },
     "user_tz": -180
    },
    "id": "Yk_mB4qGFzPz",
    "outputId": "58d61225-8204-4de0-fb80-e5c8f69666e6"
   },
   "outputs": [
    {
     "name": "stdout",
     "output_type": "stream",
     "text": [
      "BEFORE \n",
      "[[3 2]\n",
      " [5 2]\n",
      " [9 5]\n",
      " [1 3]]\n",
      "AFTER \n",
      "[[3 2 5 2 9 5 1 3]]\n"
     ]
    }
   ],
   "source": [
    "tensor = tf.constant([[3, 2],\n",
    "                      [5, 2],\n",
    "                      [9, 5],\n",
    "                      [1, 3]])\n",
    "\n",
    "resh_tensor = tf.reshape(tensor=tensor, shape=[1, 8])\n",
    "\n",
    "print(f'BEFORE \\n{tensor.numpy()}')\n",
    "print(f'AFTER \\n{resh_tensor.numpy()}')"
   ]
  },
  {
   "cell_type": "markdown",
   "metadata": {
    "id": "van47kdAFzPp"
   },
   "source": [
    "Пример сложения тензеров - "
   ]
  },
  {
   "cell_type": "code",
   "execution_count": 12,
   "metadata": {
    "ExecuteTime": {
     "end_time": "2021-07-05T10:17:31.087084Z",
     "start_time": "2021-07-05T10:17:31.073073Z"
    },
    "colab": {
     "base_uri": "https://localhost:8080/"
    },
    "executionInfo": {
     "elapsed": 121,
     "status": "ok",
     "timestamp": 1625156792293,
     "user": {
      "displayName": "Mariia Korliakova",
      "photoUrl": "",
      "userId": "14165537686129864864"
     },
     "user_tz": -180
    },
    "id": "wYwJYGSvFzPr",
    "outputId": "2d3a1f9f-ebf8-400c-8529-5c6f3686ebc5"
   },
   "outputs": [
    {
     "name": "stdout",
     "output_type": "stream",
     "text": [
      "[[3 2 9 5]\n",
      " [5 2 1 3]]\n"
     ]
    }
   ],
   "source": [
    "B = tf.constant([[9, 5],\n",
    "                 [1, 3]])\n",
    "\n",
    "AB = tf.concat(values=[A, B], axis=1)\n",
    "print(AB.numpy())"
   ]
  },
  {
   "cell_type": "markdown",
   "metadata": {
    "id": "rDoym3IkSN-k"
   },
   "source": [
    "Для переменных можно еще и так (добавить к тому. что есть)"
   ]
  },
  {
   "cell_type": "code",
   "execution_count": 13,
   "metadata": {
    "ExecuteTime": {
     "end_time": "2021-07-05T10:17:31.102260Z",
     "start_time": "2021-07-05T10:17:31.089073Z"
    },
    "colab": {
     "base_uri": "https://localhost:8080/"
    },
    "executionInfo": {
     "elapsed": 115,
     "status": "ok",
     "timestamp": 1625156792295,
     "user": {
      "displayName": "Mariia Korliakova",
      "photoUrl": "",
      "userId": "14165537686129864864"
     },
     "user_tz": -180
    },
    "id": "zmPnlSvTRUqk",
    "outputId": "923b274d-571d-48bd-9b13-731d775c91e7"
   },
   "outputs": [
    {
     "data": {
      "text/plain": [
       "<tf.Variable 'UnreadVariable' shape=(3, 1) dtype=float32, numpy=\n",
       "array([[4.],\n",
       "       [2.],\n",
       "       [2.]], dtype=float32)>"
      ]
     },
     "execution_count": 13,
     "metadata": {},
     "output_type": "execute_result"
    }
   ],
   "source": [
    "v.assign_add(tf.ones((3, 1)))"
   ]
  },
  {
   "cell_type": "markdown",
   "metadata": {
    "id": "txp4OBMXFzP6"
   },
   "source": [
    "Пример умножения матриц, одной из самых частых операций в машинном обучении - "
   ]
  },
  {
   "cell_type": "code",
   "execution_count": 14,
   "metadata": {
    "ExecuteTime": {
     "end_time": "2021-07-05T10:17:31.118083Z",
     "start_time": "2021-07-05T10:17:31.104072Z"
    },
    "colab": {
     "base_uri": "https://localhost:8080/"
    },
    "executionInfo": {
     "elapsed": 106,
     "status": "ok",
     "timestamp": 1625156792296,
     "user": {
      "displayName": "Mariia Korliakova",
      "photoUrl": "",
      "userId": "14165537686129864864"
     },
     "user_tz": -180
    },
    "id": "2VM7TqHlFzP8",
    "outputId": "987483c2-93e0-41a9-d624-4ea5607d4504"
   },
   "outputs": [
    {
     "name": "stdout",
     "output_type": "stream",
     "text": [
      "tf.Tensor(\n",
      "[[  30   70]\n",
      " [1000 9000]], shape=(2, 2), dtype=int32)\n"
     ]
    }
   ],
   "source": [
    "A = tf.constant([[3, 7],\n",
    "                 [1, 9]])\n",
    "\n",
    "\n",
    "B = tf.constant([[10, 10],\n",
    "                 [1000, 1000]])\n",
    "\n",
    "AB = tf.multiply(A, B)\n",
    "print(AB)"
   ]
  },
  {
   "cell_type": "code",
   "execution_count": 15,
   "metadata": {
    "ExecuteTime": {
     "end_time": "2021-07-05T10:17:31.133073Z",
     "start_time": "2021-07-05T10:17:31.120073Z"
    },
    "colab": {
     "base_uri": "https://localhost:8080/"
    },
    "executionInfo": {
     "elapsed": 96,
     "status": "ok",
     "timestamp": 1625156792296,
     "user": {
      "displayName": "Mariia Korliakova",
      "photoUrl": "",
      "userId": "14165537686129864864"
     },
     "user_tz": -180
    },
    "id": "qCCRCUpj9aPF",
    "outputId": "01d7bfdd-374b-4ce7-f94b-ec66b4914992"
   },
   "outputs": [
    {
     "name": "stdout",
     "output_type": "stream",
     "text": [
      "tf.Tensor([[10 15]], shape=(1, 2), dtype=int32)\n",
      "(1, 2)\n",
      "<dtype: 'int32'>\n"
     ]
    }
   ],
   "source": [
    "x = tf.matmul([[5]], [[2, 3]])\n",
    "print(x)\n",
    "print(x.shape)\n",
    "print(x.dtype)"
   ]
  },
  {
   "cell_type": "markdown",
   "metadata": {
    "id": "YuV-xpouSe97"
   },
   "source": [
    "Можно много всякого похожего на numpy"
   ]
  },
  {
   "cell_type": "code",
   "execution_count": 16,
   "metadata": {
    "ExecuteTime": {
     "end_time": "2021-07-05T10:17:31.164084Z",
     "start_time": "2021-07-05T10:17:31.135071Z"
    },
    "colab": {
     "base_uri": "https://localhost:8080/"
    },
    "executionInfo": {
     "elapsed": 87,
     "status": "ok",
     "timestamp": 1625156792297,
     "user": {
      "displayName": "Mariia Korliakova",
      "photoUrl": "",
      "userId": "14165537686129864864"
     },
     "user_tz": -180
    },
    "id": "mctsk4y8SnCp",
    "outputId": "c4311006-121a-4915-eeed-0352ce7a55f9"
   },
   "outputs": [
    {
     "name": "stdout",
     "output_type": "stream",
     "text": [
      "tf.Tensor(\n",
      "[[2. 2.]\n",
      " [2. 2.]], shape=(2, 2), dtype=float32)\n",
      "tf.Tensor(\n",
      "[[4. 4.]\n",
      " [4. 4.]], shape=(2, 2), dtype=float32)\n",
      "tf.Tensor(\n",
      "[[1.4142135 1.4142135]\n",
      " [1.4142135 1.4142135]], shape=(2, 2), dtype=float32)\n",
      "tf.Tensor(\n",
      "[[5.4142137 5.4142137]\n",
      " [5.4142137 5.4142137]], shape=(2, 2), dtype=float32)\n",
      "tf.Tensor(\n",
      "[[16. 16.]\n",
      " [16. 16.]], shape=(2, 2), dtype=float32)\n",
      "tf.Tensor(\n",
      "[[86.62742 86.62742]\n",
      " [86.62742 86.62742]], shape=(2, 2), dtype=float32)\n"
     ]
    }
   ],
   "source": [
    "a = tf.ones((2, 2)) * 2\n",
    "print(a)\n",
    "b = tf.square(a)\n",
    "print(b)\n",
    "c = tf.sqrt(a)\n",
    "print(c)\n",
    "d = b + c\n",
    "print(d)\n",
    "e = tf.matmul(a, b)\n",
    "print(e)\n",
    "e *= d\n",
    "print(e)"
   ]
  },
  {
   "cell_type": "code",
   "execution_count": 17,
   "metadata": {
    "ExecuteTime": {
     "end_time": "2021-07-05T10:17:31.179085Z",
     "start_time": "2021-07-05T10:17:31.166074Z"
    },
    "colab": {
     "base_uri": "https://localhost:8080/"
    },
    "executionInfo": {
     "elapsed": 77,
     "status": "ok",
     "timestamp": 1625156792298,
     "user": {
      "displayName": "Mariia Korliakova",
      "photoUrl": "",
      "userId": "14165537686129864864"
     },
     "user_tz": -180
    },
    "id": "5zd1GMQ0-o80",
    "outputId": "aef79bd4-a454-4f21-d40b-e2ba04c74c3c",
    "scrolled": true
   },
   "outputs": [
    {
     "name": "stdout",
     "output_type": "stream",
     "text": [
      "превратим numpy arrays в Tensors \n",
      "tf.Tensor(\n",
      "[[42. 42. 42.]\n",
      " [42. 42. 42.]\n",
      " [42. 42. 42.]], shape=(3, 3), dtype=float64)\n",
      "добавим к тензору 1 \n",
      "[[43. 43. 43.]\n",
      " [43. 43. 43.]\n",
      " [43. 43. 43.]]\n",
      " .numpy() превратим тензор в  numpy array\n",
      "[[42. 42. 42.]\n",
      " [42. 42. 42.]\n",
      " [42. 42. 42.]]\n"
     ]
    }
   ],
   "source": [
    "ndarray = np.ones([3, 3])\n",
    "\n",
    "print(\"превратим numpy arrays в Tensors \")\n",
    "tensor = tf.multiply(ndarray, 42)\n",
    "print(tensor)\n",
    "\n",
    "\n",
    "print(\"добавим к тензору 1 \")\n",
    "print(np.add(tensor, 1))\n",
    "\n",
    "print(\" .numpy() превратим тензор в  numpy array\")\n",
    "print(tensor.numpy())"
   ]
  },
  {
   "cell_type": "code",
   "execution_count": 18,
   "metadata": {
    "ExecuteTime": {
     "end_time": "2021-07-05T10:17:31.195084Z",
     "start_time": "2021-07-05T10:17:31.180074Z"
    }
   },
   "outputs": [],
   "source": [
    "# Градиент"
   ]
  },
  {
   "cell_type": "code",
   "execution_count": 19,
   "metadata": {
    "ExecuteTime": {
     "end_time": "2021-07-05T10:17:31.210328Z",
     "start_time": "2021-07-05T10:17:31.197076Z"
    },
    "colab": {
     "base_uri": "https://localhost:8080/"
    },
    "executionInfo": {
     "elapsed": 46,
     "status": "ok",
     "timestamp": 1625156792301,
     "user": {
      "displayName": "Mariia Korliakova",
      "photoUrl": "",
      "userId": "14165537686129864864"
     },
     "user_tz": -180
    },
    "id": "d2-w6y0fTOuP",
    "outputId": "1149b656-b141-4c91-f7e8-3a40690a2288"
   },
   "outputs": [
    {
     "name": "stdout",
     "output_type": "stream",
     "text": [
      "input_var :  <tf.Variable 'Variable:0' shape=() dtype=float32, numpy=3.0>\n",
      "result = input_var^2 :  tf.Tensor(9.0, shape=(), dtype=float32)\n",
      "gradient :  tf.Tensor(6.0, shape=(), dtype=float32)\n"
     ]
    }
   ],
   "source": [
    "input_var = tf.Variable(initial_value=3.)\n",
    "with tf.GradientTape() as tape:\n",
    "    result = tf.square(input_var)\n",
    "gradient = tape.gradient(result, input_var)\n",
    "\n",
    "print('input_var : ', input_var)\n",
    "print('result = input_var^2 : ', result)\n",
    "print('gradient : ', gradient)"
   ]
  },
  {
   "cell_type": "markdown",
   "metadata": {
    "id": "_8s-9c41UFQN"
   },
   "source": [
    "Производная второго порядка:"
   ]
  },
  {
   "cell_type": "code",
   "execution_count": 20,
   "metadata": {
    "ExecuteTime": {
     "end_time": "2021-07-05T10:17:31.447084Z",
     "start_time": "2021-07-05T10:17:31.212073Z"
    },
    "colab": {
     "base_uri": "https://localhost:8080/"
    },
    "executionInfo": {
     "elapsed": 37,
     "status": "ok",
     "timestamp": 1625156792302,
     "user": {
      "displayName": "Mariia Korliakova",
      "photoUrl": "",
      "userId": "14165537686129864864"
     },
     "user_tz": -180
    },
    "id": "fHlpsLfLUDtU",
    "outputId": "03534afc-5425-40b0-c17b-318f9c4902e2"
   },
   "outputs": [
    {
     "name": "stdout",
     "output_type": "stream",
     "text": [
      "x :  tf.Tensor(\n",
      "[  0.         4.9       19.6       44.100002  78.4      122.5\n",
      " 176.40001  240.1      313.6      396.9     ], shape=(10,), dtype=float32)\n",
      "t :  <tf.Variable 'Variable:0' shape=(10,) dtype=float32, numpy=array([0., 1., 2., 3., 4., 5., 6., 7., 8., 9.], dtype=float32)>\n",
      "v :  tf.Tensor(\n",
      "[ 0.        9.8      19.6      29.400002 39.2      49.       58.800003\n",
      " 68.6      78.4      88.200005], shape=(10,), dtype=float32)\n",
      "a :  tf.Tensor([9.8 9.8 9.8 9.8 9.8 9.8 9.8 9.8 9.8 9.8], shape=(10,), dtype=float32)\n"
     ]
    }
   ],
   "source": [
    "import numpy as np\n",
    "import matplotlib.pyplot as plt\n",
    "\n",
    "input_t = tf.Variable(np.arange(10), dtype='float32')\n",
    "with tf.GradientTape() as outer_tape:\n",
    "    with tf.GradientTape() as inner_tape:\n",
    "        x = 4.9 * input_t ** 2  # g * t^2 /2\n",
    "    speed = inner_tape.gradient(x, input_t)  # g * t\n",
    "acceleration = outer_tape.gradient(speed, input_t)   # g\n",
    "\n",
    "\n",
    "print('x : ', x)\n",
    "print('t : ', input_t)\n",
    "print('v : ', speed)\n",
    "print('a : ', acceleration)"
   ]
  },
  {
   "cell_type": "code",
   "execution_count": 21,
   "metadata": {
    "ExecuteTime": {
     "end_time": "2021-07-05T10:17:31.669084Z",
     "start_time": "2021-07-05T10:17:31.448072Z"
    },
    "colab": {
     "base_uri": "https://localhost:8080/",
     "height": 256
    },
    "executionInfo": {
     "elapsed": 2351,
     "status": "ok",
     "timestamp": 1625156794626,
     "user": {
      "displayName": "Mariia Korliakova",
      "photoUrl": "",
      "userId": "14165537686129864864"
     },
     "user_tz": -180
    },
    "id": "VeqHFTyFVOdc",
    "outputId": "320db44b-6b6c-4a1c-e9c9-0af2e590b333"
   },
   "outputs": [
    {
     "data": {
      "image/png": "[encoded data removed]",
      "text/plain": [
       "<Figure size 1152x360 with 1 Axes>"
      ]
     },
     "metadata": {
      "needs_background": "light"
     },
     "output_type": "display_data"
    }
   ],
   "source": [
    "plt.figure(figsize=(16, 5))\n",
    "plt.plot(input_t.numpy(), x.numpy(), label='x')\n",
    "plt.plot(input_t.numpy(), speed.numpy(), label='speed')\n",
    "plt.plot(input_t.numpy(), acceleration.numpy(), label='acceleration')\n",
    "plt.legend()\n",
    "plt.xlabel('t')\n",
    "plt.grid('on')\n",
    "plt.show()"
   ]
  }
 ],
 "metadata": {
  "accelerator": "GPU",
  "colab": {
   "collapsed_sections": [],
   "name": "metodich3_colab_1_07.ipynb",
   "provenance": []
  },
  "kernelspec": {
   "display_name": "Python 3",
   "language": "python",
   "name": "python3"
  },
  "language_info": {
   "codemirror_mode": {
    "name": "ipython",
    "version": 3
   },
   "file_extension": ".py",
   "mimetype": "text/x-python",
   "name": "python",
   "nbconvert_exporter": "python",
   "pygments_lexer": "ipython3",
   "version": "3.8.5"
  },
  "toc": {
   "base_numbering": 1,
   "nav_menu": {},
   "number_sections": true,
   "sideBar": true,
   "skip_h1_title": false,
   "title_cell": "Table of Contents",
   "title_sidebar": "Contents",
   "toc_cell": false,
   "toc_position": {},
   "toc_section_display": true,
   "toc_window_display": false
  }
 },
 "nbformat": 4,
 "nbformat_minor": 1
}
