{
 "cells": [
  {
   "cell_type": "markdown",
   "metadata": {
    "id": "pZyy2UhoFzTB"
   },
   "source": [
    "## Практическое задание\n",
    "\n",
    "  1. Постройте нейронную сеть(берем простую линейную сеть, которую разбирали на уроке: меняем число слоев, число нейронов , типы активации, тип оптимизатора)  на датасет from sklearn.datasets import load_boston. \n",
    "  2. Измените функцию потерь и метрику для этой задачи. Постройте 10-15 вариантов и сведите результаты их работы в таблицу  Опишите, какого результата вы добились от нейросети? Что помогло вам улучшить ее точность?\n",
    "\n"
   ]
  },
  {
   "cell_type": "code",
   "execution_count": 11,
   "metadata": {
    "id": "vVHyQwOcOs14"
   },
   "outputs": [],
   "source": [
    "from tensorflow import keras\n",
    "from tensorflow.keras.models import Sequential, Model\n",
    "from tensorflow.keras.layers import Dense, Input\n",
    "from tensorflow.keras.utils import to_categorical\n",
    "from tensorflow.keras.utils import plot_model"
   ]
  },
  {
   "cell_type": "code",
   "execution_count": 12,
   "metadata": {
    "id": "gltIavReWv3Q"
   },
   "outputs": [],
   "source": [
    "from sklearn.datasets import load_boston\n",
    "from sklearn.model_selection import train_test_split\n",
    "from sklearn.preprocessing import StandardScaler"
   ]
  },
  {
   "cell_type": "code",
   "execution_count": 13,
   "metadata": {
    "id": "uqx0Uq5tO7Um"
   },
   "outputs": [],
   "source": [
    "import numpy as np\n",
    "import pandas as pd\n",
    "import warnings\n",
    "import matplotlib.pyplot as plt\n",
    "\n",
    "%config InlineBackend.figure_format = 'svg'\n",
    "plt.style.use('ggplot')\n",
    "warnings.simplefilter(action='ignore', category=FutureWarning)"
   ]
  },
  {
   "cell_type": "code",
   "execution_count": 14,
   "metadata": {
    "ExecuteTime": {
     "end_time": "2021-07-04T15:06:48.529747Z",
     "start_time": "2021-07-04T15:06:48.523735Z"
    },
    "id": "75BVCTdbFzPa"
   },
   "outputs": [],
   "source": [
    "# import tensorflow as tf\n",
    "# print(tf.__version__)\n",
    "# msg = tf.constant('TensorFlow 2.0 Hello World')\n",
    "# tf.print(msg)\n",
    "# x = tf.random.uniform([3, 3])\n",
    "# print(\"есть ли доступные GPU: \"),\n",
    "# print(tf.config.experimental.list_physical_devices(\"GPU\"))\n",
    "# print(\"тензор на GPU #0:  \"),\n",
    "# print(x.device.endswith('GPU:0'))"
   ]
  },
  {
   "cell_type": "markdown",
   "metadata": {
    "id": "qBUSq3dWHUjF"
   },
   "source": [
    "******************"
   ]
  },
  {
   "cell_type": "code",
   "execution_count": 15,
   "metadata": {
    "colab": {
     "base_uri": "https://localhost:8080/",
     "height": 111
    },
    "id": "fCXTPdTcWh8B",
    "outputId": "3aefd6cd-037a-4fa8-e03e-dbd130e19ba3"
   },
   "outputs": [
    {
     "data": {
      "text/html": [
       "<div>\n",
       "<style scoped>\n",
       "    .dataframe tbody tr th:only-of-type {\n",
       "        vertical-align: middle;\n",
       "    }\n",
       "\n",
       "    .dataframe tbody tr th {\n",
       "        vertical-align: top;\n",
       "    }\n",
       "\n",
       "    .dataframe thead th {\n",
       "        text-align: right;\n",
       "    }\n",
       "</style>\n",
       "<table border=\"1\" class=\"dataframe\">\n",
       "  <thead>\n",
       "    <tr style=\"text-align: right;\">\n",
       "      <th></th>\n",
       "      <th>CRIM</th>\n",
       "      <th>ZN</th>\n",
       "      <th>INDUS</th>\n",
       "      <th>CHAS</th>\n",
       "      <th>NOX</th>\n",
       "      <th>RM</th>\n",
       "      <th>AGE</th>\n",
       "      <th>DIS</th>\n",
       "      <th>RAD</th>\n",
       "      <th>TAX</th>\n",
       "      <th>PTRATIO</th>\n",
       "      <th>B</th>\n",
       "      <th>LSTAT</th>\n",
       "      <th>target</th>\n",
       "    </tr>\n",
       "  </thead>\n",
       "  <tbody>\n",
       "    <tr>\n",
       "      <th>0</th>\n",
       "      <td>-0.419782</td>\n",
       "      <td>0.284830</td>\n",
       "      <td>-1.287909</td>\n",
       "      <td>-0.272599</td>\n",
       "      <td>-0.144217</td>\n",
       "      <td>0.413672</td>\n",
       "      <td>-0.120013</td>\n",
       "      <td>0.140214</td>\n",
       "      <td>-0.982843</td>\n",
       "      <td>-0.666608</td>\n",
       "      <td>-1.459000</td>\n",
       "      <td>0.441052</td>\n",
       "      <td>-1.075562</td>\n",
       "      <td>24.0</td>\n",
       "    </tr>\n",
       "    <tr>\n",
       "      <th>1</th>\n",
       "      <td>-0.417339</td>\n",
       "      <td>-0.487722</td>\n",
       "      <td>-0.593381</td>\n",
       "      <td>-0.272599</td>\n",
       "      <td>-0.740262</td>\n",
       "      <td>0.194274</td>\n",
       "      <td>0.367166</td>\n",
       "      <td>0.557160</td>\n",
       "      <td>-0.867883</td>\n",
       "      <td>-0.987329</td>\n",
       "      <td>-0.303094</td>\n",
       "      <td>0.441052</td>\n",
       "      <td>-0.492439</td>\n",
       "      <td>21.6</td>\n",
       "    </tr>\n",
       "  </tbody>\n",
       "</table>\n",
       "</div>"
      ],
      "text/plain": [
       "       CRIM        ZN     INDUS      CHAS  ...   PTRATIO         B     LSTAT  target\n",
       "0 -0.419782  0.284830 -1.287909 -0.272599  ... -1.459000  0.441052 -1.075562    24.0\n",
       "1 -0.417339 -0.487722 -0.593381 -0.272599  ... -0.303094  0.441052 -0.492439    21.6\n",
       "\n",
       "[2 rows x 14 columns]"
      ]
     },
     "execution_count": 15,
     "metadata": {
      "tags": []
     },
     "output_type": "execute_result"
    }
   ],
   "source": [
    "boston = load_boston()\n",
    "X = boston['data']\n",
    "scaler = StandardScaler()\n",
    "X = scaler.fit_transform(X)\n",
    "X = pd.DataFrame(X, columns=boston['feature_names'])\n",
    "y = pd.DataFrame(boston['target'], columns=['target'])\n",
    "data = pd.concat([X, y], axis=1)\n",
    "data.head(2)"
   ]
  },
  {
   "cell_type": "code",
   "execution_count": 16,
   "metadata": {
    "id": "STM_N18gVKZE"
   },
   "outputs": [],
   "source": [
    "X_train, X_test, y_train, y_test = train_test_split(X, y, test_size=0.2)"
   ]
  },
  {
   "cell_type": "code",
   "execution_count": 17,
   "metadata": {
    "id": "PIIwUIB_GWzd"
   },
   "outputs": [],
   "source": [
    "def model_test(X_train: pd.DataFrame,\n",
    "               y_train: pd.DataFrame,\n",
    "               n_layers: int = 2,\n",
    "               n_neurons: int = 128,\n",
    "               n_epochs: int = 15,\n",
    "               batch_size: int = 1500,\n",
    "               validation_split: float = 0.2,\n",
    "               activation: str = 'sigmoid',\n",
    "               optimizer: str = 'adam',\n",
    "               loss: str = 'mse'\n",
    "               ):\n",
    "    inputs = Input(shape=(13))\n",
    "    x = Dense(n_neurons, activation=activation)(inputs)\n",
    "    if n_layers > 2:\n",
    "        for i in range(n_layers-1):\n",
    "            x = Dense(int(n_neurons), activation=activation)(x)\n",
    "    outputs = Dense(1)(x)\n",
    "\n",
    "    model = Model(inputs, outputs)\n",
    "    model.compile(optimizer=optimizer, loss=loss, metrics=['mae'])\n",
    "    model.fit(X, y, epochs=n_epochs, batch_size=batch_size, verbose=0)\n",
    "\n",
    "    return model"
   ]
  },
  {
   "cell_type": "code",
   "execution_count": 18,
   "metadata": {
    "id": "YrQfJ__TY6hT"
   },
   "outputs": [],
   "source": [
    "result_df = pd.DataFrame(columns=['Число слоев',\n",
    "                                  'Число нейронов скрытого слоя',\n",
    "                                  'Оптимизатор',\n",
    "                                  'Функция активации',\n",
    "                                  'Функция потерь',\n",
    "                                  'train_mse',\n",
    "                                  'test_mse'])"
   ]
  },
  {
   "cell_type": "code",
   "execution_count": 19,
   "metadata": {
    "id": "kz75Njr0QTIi"
   },
   "outputs": [],
   "source": [
    "lr = 0.001\n",
    "layers = [2, 3, 4]\n",
    "neurons = [64, 128, 196]\n",
    "optimizers = [keras.optimizers.RMSprop(learning_rate=lr), keras.optimizers.SGD(\n",
    "    learning_rate=lr), keras.optimizers.Adam(learning_rate=lr), keras.optimizers.Nadam(learning_rate=lr)]\n",
    "f_activations = ['relu', 'sigmoid', 'tanh']\n",
    "losses = ['mse', 'mae']"
   ]
  },
  {
   "cell_type": "code",
   "execution_count": 20,
   "metadata": {
    "id": "pesI37pgRjmt"
   },
   "outputs": [],
   "source": [
    "results = []\n",
    "for n_layers in layers:\n",
    "    for n_neurons in neurons:\n",
    "        for optimizer in optimizers:\n",
    "            for activation in f_activations:\n",
    "                for loss in losses:\n",
    "                    result_dict = {}\n",
    "\n",
    "                    model = model_test(X_train, y_train,\n",
    "                                       n_layers=n_layers,\n",
    "                                       n_neurons=n_neurons,\n",
    "                                       n_epochs=1500,\n",
    "                                       activation=activation,\n",
    "                                       optimizer=optimizer,\n",
    "                                       loss=loss\n",
    "                                       )\n",
    "                    _, metric_train = model.evaluate(\n",
    "                        X_train, y_train, batch_size=1000, verbose=0)\n",
    "                    _, metric_test = model.evaluate(\n",
    "                        X_test, y_test, batch_size=1000, verbose=0)\n",
    "                    result_dict = {'Число слоев': n_layers,\n",
    "                                   'Число нейронов скрытого слоя': n_neurons,\n",
    "                                   'Оптимизатор': optimizer.__class__.__name__,\n",
    "                                   'Функция активации': activation,\n",
    "                                   'Функция потерь': loss,\n",
    "                                   'train_mse': metric_train,\n",
    "                                   'test_mse': metric_test}\n",
    "                    result_df = result_df.append(\n",
    "                        result_dict, ignore_index=True)"
   ]
  },
  {
   "cell_type": "code",
   "execution_count": 21,
   "metadata": {
    "colab": {
     "base_uri": "https://localhost:8080/",
     "height": 514
    },
    "id": "w1DQnWU4UbI_",
    "outputId": "078c3fba-8a49-4e81-cda3-61fd67ef8377"
   },
   "outputs": [
    {
     "data": {
      "text/html": [
       "<div>\n",
       "<style scoped>\n",
       "    .dataframe tbody tr th:only-of-type {\n",
       "        vertical-align: middle;\n",
       "    }\n",
       "\n",
       "    .dataframe tbody tr th {\n",
       "        vertical-align: top;\n",
       "    }\n",
       "\n",
       "    .dataframe thead th {\n",
       "        text-align: right;\n",
       "    }\n",
       "</style>\n",
       "<table border=\"1\" class=\"dataframe\">\n",
       "  <thead>\n",
       "    <tr style=\"text-align: right;\">\n",
       "      <th></th>\n",
       "      <th>Число слоев</th>\n",
       "      <th>Число нейронов скрытого слоя</th>\n",
       "      <th>Оптимизатор</th>\n",
       "      <th>Функция активации</th>\n",
       "      <th>Функция потерь</th>\n",
       "      <th>train_mse</th>\n",
       "      <th>test_mse</th>\n",
       "    </tr>\n",
       "  </thead>\n",
       "  <tbody>\n",
       "    <tr>\n",
       "      <th>208</th>\n",
       "      <td>4</td>\n",
       "      <td>196</td>\n",
       "      <td>Adam</td>\n",
       "      <td>tanh</td>\n",
       "      <td>mse</td>\n",
       "      <td>0.075833</td>\n",
       "      <td>0.063912</td>\n",
       "    </tr>\n",
       "    <tr>\n",
       "      <th>137</th>\n",
       "      <td>3</td>\n",
       "      <td>196</td>\n",
       "      <td>Adam</td>\n",
       "      <td>tanh</td>\n",
       "      <td>mae</td>\n",
       "      <td>0.239820</td>\n",
       "      <td>0.079753</td>\n",
       "    </tr>\n",
       "    <tr>\n",
       "      <th>184</th>\n",
       "      <td>4</td>\n",
       "      <td>128</td>\n",
       "      <td>Adam</td>\n",
       "      <td>tanh</td>\n",
       "      <td>mse</td>\n",
       "      <td>0.138838</td>\n",
       "      <td>0.119488</td>\n",
       "    </tr>\n",
       "    <tr>\n",
       "      <th>214</th>\n",
       "      <td>4</td>\n",
       "      <td>196</td>\n",
       "      <td>Nadam</td>\n",
       "      <td>tanh</td>\n",
       "      <td>mse</td>\n",
       "      <td>0.164751</td>\n",
       "      <td>0.144331</td>\n",
       "    </tr>\n",
       "    <tr>\n",
       "      <th>136</th>\n",
       "      <td>3</td>\n",
       "      <td>196</td>\n",
       "      <td>Adam</td>\n",
       "      <td>tanh</td>\n",
       "      <td>mse</td>\n",
       "      <td>0.184869</td>\n",
       "      <td>0.147020</td>\n",
       "    </tr>\n",
       "    <tr>\n",
       "      <th>191</th>\n",
       "      <td>4</td>\n",
       "      <td>128</td>\n",
       "      <td>Nadam</td>\n",
       "      <td>tanh</td>\n",
       "      <td>mae</td>\n",
       "      <td>0.237263</td>\n",
       "      <td>0.150713</td>\n",
       "    </tr>\n",
       "    <tr>\n",
       "      <th>215</th>\n",
       "      <td>4</td>\n",
       "      <td>196</td>\n",
       "      <td>Nadam</td>\n",
       "      <td>tanh</td>\n",
       "      <td>mae</td>\n",
       "      <td>0.175038</td>\n",
       "      <td>0.150801</td>\n",
       "    </tr>\n",
       "    <tr>\n",
       "      <th>143</th>\n",
       "      <td>3</td>\n",
       "      <td>196</td>\n",
       "      <td>Nadam</td>\n",
       "      <td>tanh</td>\n",
       "      <td>mae</td>\n",
       "      <td>0.214845</td>\n",
       "      <td>0.158382</td>\n",
       "    </tr>\n",
       "    <tr>\n",
       "      <th>209</th>\n",
       "      <td>4</td>\n",
       "      <td>196</td>\n",
       "      <td>Adam</td>\n",
       "      <td>tanh</td>\n",
       "      <td>mae</td>\n",
       "      <td>0.295761</td>\n",
       "      <td>0.158813</td>\n",
       "    </tr>\n",
       "    <tr>\n",
       "      <th>180</th>\n",
       "      <td>4</td>\n",
       "      <td>128</td>\n",
       "      <td>Adam</td>\n",
       "      <td>relu</td>\n",
       "      <td>mse</td>\n",
       "      <td>0.183136</td>\n",
       "      <td>0.190957</td>\n",
       "    </tr>\n",
       "    <tr>\n",
       "      <th>142</th>\n",
       "      <td>3</td>\n",
       "      <td>196</td>\n",
       "      <td>Nadam</td>\n",
       "      <td>tanh</td>\n",
       "      <td>mse</td>\n",
       "      <td>0.195802</td>\n",
       "      <td>0.224640</td>\n",
       "    </tr>\n",
       "    <tr>\n",
       "      <th>119</th>\n",
       "      <td>3</td>\n",
       "      <td>128</td>\n",
       "      <td>Nadam</td>\n",
       "      <td>tanh</td>\n",
       "      <td>mae</td>\n",
       "      <td>0.372465</td>\n",
       "      <td>0.237332</td>\n",
       "    </tr>\n",
       "    <tr>\n",
       "      <th>118</th>\n",
       "      <td>3</td>\n",
       "      <td>128</td>\n",
       "      <td>Nadam</td>\n",
       "      <td>tanh</td>\n",
       "      <td>mse</td>\n",
       "      <td>0.214815</td>\n",
       "      <td>0.238715</td>\n",
       "    </tr>\n",
       "    <tr>\n",
       "      <th>204</th>\n",
       "      <td>4</td>\n",
       "      <td>196</td>\n",
       "      <td>Adam</td>\n",
       "      <td>relu</td>\n",
       "      <td>mse</td>\n",
       "      <td>0.196671</td>\n",
       "      <td>0.249033</td>\n",
       "    </tr>\n",
       "    <tr>\n",
       "      <th>190</th>\n",
       "      <td>4</td>\n",
       "      <td>128</td>\n",
       "      <td>Nadam</td>\n",
       "      <td>tanh</td>\n",
       "      <td>mse</td>\n",
       "      <td>0.270029</td>\n",
       "      <td>0.260930</td>\n",
       "    </tr>\n",
       "  </tbody>\n",
       "</table>\n",
       "</div>"
      ],
      "text/plain": [
       "    Число слоев Число нейронов скрытого слоя  ... train_mse  test_mse\n",
       "208           4                          196  ...  0.075833  0.063912\n",
       "137           3                          196  ...  0.239820  0.079753\n",
       "184           4                          128  ...  0.138838  0.119488\n",
       "214           4                          196  ...  0.164751  0.144331\n",
       "136           3                          196  ...  0.184869  0.147020\n",
       "191           4                          128  ...  0.237263  0.150713\n",
       "215           4                          196  ...  0.175038  0.150801\n",
       "143           3                          196  ...  0.214845  0.158382\n",
       "209           4                          196  ...  0.295761  0.158813\n",
       "180           4                          128  ...  0.183136  0.190957\n",
       "142           3                          196  ...  0.195802  0.224640\n",
       "119           3                          128  ...  0.372465  0.237332\n",
       "118           3                          128  ...  0.214815  0.238715\n",
       "204           4                          196  ...  0.196671  0.249033\n",
       "190           4                          128  ...  0.270029  0.260930\n",
       "\n",
       "[15 rows x 7 columns]"
      ]
     },
     "execution_count": 21,
     "metadata": {
      "tags": []
     },
     "output_type": "execute_result"
    }
   ],
   "source": [
    "result_df = result_df.sort_values(by=['test_mse'])\n",
    "result_df.head(15)"
   ]
  },
  {
   "cell_type": "code",
   "execution_count": 22,
   "metadata": {
    "colab": {
     "base_uri": "https://localhost:8080/",
     "height": 564
    },
    "id": "YsYGlHx-t35A",
    "outputId": "1682b244-4d30-47a4-dd6a-cba870b987a9"
   },
   "outputs": [
    {
     "data": {
      "image/png": "[encoded data removed]",
      "text/plain": [
       "<IPython.core.display.Image object>"
      ]
     },
     "execution_count": 22,
     "metadata": {
      "tags": []
     },
     "output_type": "execute_result"
    }
   ],
   "source": [
    "plot_model(model)"
   ]
  },
  {
   "cell_type": "markdown",
   "metadata": {
    "id": "L6JJUpBX8SEI"
   },
   "source": [
    "**Вывод:** в общем случае увеличение числа нейронов и числа скртых слоев (с учетом того, что модель излишне не усложнялась) улучшает модель. Лучшие результаты показали модели с функцией потерь ***MSE***, функцией активации ***tanh*** и оптимизатором ***Adam***."
   ]
  }
 ],
 "metadata": {
  "accelerator": "TPU",
  "colab": {
   "collapsed_sections": [],
   "name": "HW_3.ipynb",
   "provenance": []
  },
  "kernelspec": {
   "display_name": "Python 3",
   "language": "python",
   "name": "python3"
  },
  "language_info": {
   "codemirror_mode": {
    "name": "ipython",
    "version": 3
   },
   "file_extension": ".py",
   "mimetype": "text/x-python",
   "name": "python",
   "nbconvert_exporter": "python",
   "pygments_lexer": "ipython3",
   "version": "3.8.5"
  },
  "toc": {
   "base_numbering": 1,
   "nav_menu": {},
   "number_sections": true,
   "sideBar": true,
   "skip_h1_title": false,
   "title_cell": "Table of Contents",
   "title_sidebar": "Contents",
   "toc_cell": false,
   "toc_position": {},
   "toc_section_display": true,
   "toc_window_display": false
  }
 },
 "nbformat": 4,
 "nbformat_minor": 1
}
